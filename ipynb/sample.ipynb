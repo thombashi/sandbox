{
 "cells": [
  {
   "cell_type": "code",
   "execution_count": 1,
   "metadata": {
    "collapsed": false
   },
   "outputs": [
    {
     "name": "stdout",
     "output_type": "stream",
     "text": [
      "---------- typename ----------\n",
      "['INT', 'FLOAT', 'STRING', 'INT', 'INT']\n",
      "['INT', 'FLOAT', 'STRING', 'FLOAT', 'FLOAT']\n",
      "['INT', 'FLOAT', 'STRING', 'INT', 'STRING']\n",
      "---------- str_len ----------\n",
      "[1, 3, 3, 1, 1]\n",
      "[1, 3, 3, 3, 3]\n",
      "[1, 3, 3, 1, 3]\n",
      "---------- integer_digits ----------\n",
      "[1, 1, nan, 1, 1]\n",
      "[1, 1, nan, 1, 1]\n",
      "[1, 1, nan, 1, nan]\n",
      "---------- decimal_places ----------\n",
      "[0, 1, nan, 0, 0]\n",
      "[0, 1, nan, 1, 1]\n",
      "[0, 1, nan, 0, nan]\n"
     ]
    }
   ],
   "source": [
    "from dataproperty import PropertyExtractor, Typecode\n",
    "\n",
    "data_matrix = [\n",
    "    [1, 1.1, \"aaa\", 1,   1],\n",
    "    [2, 2.2, \"bbb\", 2.2, 2.2],\n",
    "    [3, 3.3, \"ccc\", 3,   \"ccc\"],\n",
    "]\n",
    "prop_matrix = PropertyExtractor.extract_data_property_matrix(data_matrix)\n",
    "\n",
    "print \"---------- typename ----------\"\n",
    "for prop_list in prop_matrix:\n",
    "    print [Typecode.get_typename(prop.typecode) for prop in prop_list]\n",
    "\n",
    "print \"---------- str_len ----------\"\n",
    "for prop_list in prop_matrix:\n",
    "    print [prop.str_len for prop in prop_list]\n",
    "\n",
    "print \"---------- integer_digits ----------\"\n",
    "for prop_list in prop_matrix:\n",
    "    print [prop.integer_digits for prop in prop_list]\n",
    "\n",
    "print \"---------- decimal_places ----------\"\n",
    "for prop_list in prop_matrix:\n",
    "    print [prop.decimal_places for prop in prop_list]\n"
   ]
  },
  {
   "cell_type": "code",
   "execution_count": 2,
   "metadata": {
    "collapsed": false,
    "scrolled": true
   },
   "outputs": [
    {
     "name": "stdout",
     "output_type": "stream",
     "text": [
      "---------- typename ----------\n",
      "['INT', 'FLOAT', 'STRING', 'FLOAT', 'STRING']\n",
      "---------- padding_len ----------\n",
      "[3, 5, 3, 3, 3]\n",
      "---------- decimal_places ----------\n",
      "[nan, 1, nan, 1, 1]\n"
     ]
    }
   ],
   "source": [
    "from dataproperty import PropertyExtractor, Typecode\n",
    "\n",
    "header_list = [\"int\", \"float\", \"str\", \"num\", \"mix\"]\n",
    "data_matrix = [\n",
    "    [1, 1.1, \"aaa\", 1,   1],\n",
    "    [2, 2.2, \"bbb\", 2.2, 2.2],\n",
    "    [3, 3.3, \"ccc\", 3,   \"ccc\"],\n",
    "]\n",
    "col_prop_list = PropertyExtractor.extract_column_property_list(header_list, data_matrix)\n",
    "\n",
    "print \"---------- typename ----------\"\n",
    "print [Typecode.get_typename(prop.typecode) for prop in col_prop_list]\n",
    "\n",
    "print \"---------- padding_len ----------\"\n",
    "print [prop.padding_len for prop in col_prop_list]\n",
    "\n",
    "print \"---------- decimal_places ----------\"\n",
    "print [prop.decimal_places for prop in col_prop_list]\n"
   ]
  },
  {
   "cell_type": "code",
   "execution_count": null,
   "metadata": {
    "collapsed": true
   },
   "outputs": [],
   "source": []
  }
 ],
 "metadata": {
  "kernelspec": {
   "display_name": "Python 2",
   "language": "python",
   "name": "python2"
  },
  "language_info": {
   "codemirror_mode": {
    "name": "ipython",
    "version": 2
   },
   "file_extension": ".py",
   "mimetype": "text/x-python",
   "name": "python",
   "nbconvert_exporter": "python",
   "pygments_lexer": "ipython2",
   "version": "2.7.10"
  }
 },
 "nbformat": 4,
 "nbformat_minor": 0
}
